{
 "cells": [
  {
   "cell_type": "markdown",
   "metadata": {},
   "source": [
    "# P3: Wrangle OpenStreetMap Data"
   ]
  },
  {
   "cell_type": "markdown",
   "metadata": {},
   "source": [
    "## 1. Choose Your Map Area"
   ]
  },
  {
   "cell_type": "markdown",
   "metadata": {},
   "source": [
    "I have chosen a Spanish town (Santander, Spain) as area. All data downloaded from https://www.openstreetmap.org as a XML OSM dataset. Using tool Overpass API to download a square are of Santander, the file size is 62.4MB. The are downloaded is located, N: 43.4978, S: 43.3893, E: -3.7096, W: -3.9791. \n",
    "\n",
    "In this project we will use data munging techniques to clean OpenStreetMap data for a part of the world that we care about. We will use MongoDB in order to help us. We start thoroughly audit and clean our dataset, converting it from XML OSM to JSON format. Then we will import the cleaned .json file into a MongoDB database and try some commands.\n"
   ]
  },
  {
   "cell_type": "markdown",
   "metadata": {},
   "source": [
    "## 2. Process and Audit Data\n"
   ]
  },
  {
   "cell_type": "markdown",
   "metadata": {},
   "source": [
    "I will use the following code provided by Udacity to create a file called sample.osm which we will use for testing future functions. You can find this code in audit.py"
   ]
  },
  {
   "cell_type": "code",
   "execution_count": 6,
   "metadata": {
    "collapsed": false
   },
   "outputs": [],
   "source": [
    "from audit import get_element\n",
    "\n",
    "OSM_FILE = \"mapSantander.osm\"  # Replace this with your osm file\n",
    "SAMPLE_FILE = \"sample.osm\"\n",
    "k = 200 # Parameter: take every k-th top level element\n",
    "\n",
    "import xml.etree.ElementTree as ET  # Use cElementTree or lxml if too slow\n",
    "\n",
    "with open(SAMPLE_FILE, 'wb') as output:\n",
    "    output.write('<?xml version=\"1.0\" encoding=\"UTF-8\"?>\\n')\n",
    "    output.write('<osm>\\n  ')\n",
    "\n",
    "    # Write every kth top level element\n",
    "    for i, element in enumerate(get_element(OSM_FILE)):\n",
    "        if i % k == 0:\n",
    "            output.write(ET.tostring(element, encoding='utf-8'))\n",
    "    output.write('</osm>')\n",
    "\n"
   ]
  },
  {
   "cell_type": "markdown",
   "metadata": {},
   "source": [
    "### 2.1. Tags"
   ]
  },
  {
   "cell_type": "markdown",
   "metadata": {},
   "source": [
    "First of all, I will count the number of unique element types and import needed libraries."
   ]
  },
  {
   "cell_type": "code",
   "execution_count": 7,
   "metadata": {
    "collapsed": false
   },
   "outputs": [
    {
     "name": "stdout",
     "output_type": "stream",
     "text": [
      "{'bounds': 1,\n",
      " 'member': 27161,\n",
      " 'meta': 1,\n",
      " 'nd': 320009,\n",
      " 'node': 262105,\n",
      " 'note': 1,\n",
      " 'osm': 1,\n",
      " 'relation': 579,\n",
      " 'tag': 244418,\n",
      " 'way': 32434}\n"
     ]
    }
   ],
   "source": [
    "import pprint\n",
    "import re\n",
    "\n",
    "def count_tags(filename):\n",
    "    tags = {}\n",
    "    for _, element in ET.iterparse(filename):\n",
    "\n",
    "        if element.tag in tags:\n",
    "            tags[element.tag] += 1\n",
    "        else:    \n",
    "            tags[element.tag] = 1\n",
    "        \n",
    "    return tags\n",
    "\n",
    "\n",
    "tags = count_tags(OSM_FILE)\n",
    "pprint.pprint(tags)\n"
   ]
  },
  {
   "cell_type": "markdown",
   "metadata": {},
   "source": [
    "We get a overall understanding with this tags. Now we will find problems with tag key names and try to solve them."
   ]
  },
  {
   "cell_type": "code",
   "execution_count": 8,
   "metadata": {
    "collapsed": false
   },
   "outputs": [
    {
     "name": "stdout",
     "output_type": "stream",
     "text": [
      "{'lower': 145664, 'lower_colon': 97828, 'other': 926, 'problemchars': 0}\n"
     ]
    }
   ],
   "source": [
    "lower = re.compile(r'^([a-z]|_)*$')\n",
    "lower_colon = re.compile(r'^([a-z]|_)*:([a-z]|_)*$')\n",
    "problemchars = re.compile(r'[=\\+/&<>;\\'\"\\?%#$@\\,\\. \\t\\r\\n]')\n",
    "\n",
    "\n",
    "def key_type(element, keys):\n",
    "    if element.tag == \"tag\":\n",
    "        for tag in element.iter('tag'):\n",
    "            k = tag.get('k')\n",
    "            if lower.search(k):\n",
    "                keys['lower'] += 1\n",
    "            elif lower_colon.search(k):\n",
    "                keys['lower_colon'] += 1\n",
    "            elif problemchars.search(k):\n",
    "                keys['problemchars'] += 1\n",
    "            else:\n",
    "                keys['other'] += 1\n",
    "    return keys\n",
    "\n",
    "\n",
    "def process_map(filename):\n",
    "    keys = {\"lower\": 0, \"lower_colon\": 0, \"problemchars\": 0, \"other\": 0}\n",
    "    for _, element in ET.iterparse(filename):\n",
    "        keys = key_type(element, keys)\n",
    "\n",
    "    return keys\n",
    "\n",
    "\n",
    "tags = process_map(OSM_FILE)\n",
    "pprint.pprint(tags)\n",
    "\n"
   ]
  },
  {
   "cell_type": "markdown",
   "metadata": {},
   "source": [
    "The only tag we might have problems is the 'problemchars' but we don not have any. In case we had, we would ignore them."
   ]
  },
  {
   "cell_type": "markdown",
   "metadata": {},
   "source": [
    "### 2.2. Street Names"
   ]
  },
  {
   "cell_type": "markdown",
   "metadata": {},
   "source": [
    "We found problems in some abbreviation in the dataset. In spanish is very common to say c/ instead of calle (street). We start updating this mistakes for the right ones. We have found other curiosities, such as tildes and capital letters in some data, which we have leave it.\n",
    "\n",
    "We are processing only two types of top level tags, \"node\" and \"way\""
   ]
  },
  {
   "cell_type": "markdown",
   "metadata": {},
   "source": [
    "As you can see we will get the first word from the street as in Spanish we used to say Street or Avenue at the begining. However it is very common to say other words.\n",
    "\n",
    "We will create three functions to help us to clean the data.\n",
    "\n",
    "* audit_street_type, will help us to find the input wich does not match within expected and will add this string to the set.\n",
    "* is_street_name, will say if that element is a street.\n",
    "* auditstreet, will return a list which elements either street that do not match in expected.\n",
    "* update_name, will change the string name"
   ]
  },
  {
   "cell_type": "code",
   "execution_count": 9,
   "metadata": {
    "collapsed": true
   },
   "outputs": [],
   "source": [
    "from collections import defaultdict\n",
    "from audit import auditstreet"
   ]
  },
  {
   "cell_type": "code",
   "execution_count": 10,
   "metadata": {
    "collapsed": false
   },
   "outputs": [
    {
     "name": "stdout",
     "output_type": "stream",
     "text": [
      "{'AREA,': set(['AREA, ARRABAL PUERTO DE RAOS']),\n",
      " 'Avda.': set(['Avda. de la Reina Victoria']),\n",
      " u'Avenidad': set([u'Avenidad de P\\xe9rez Gald\\xf3s']),\n",
      " 'Bajade': set(['Bajade del Caleruco']),\n",
      " u'Calla': set([u'Calla de San Mart\\xedn', 'Calla del Convento']),\n",
      " 'Calles': set(['Calles de los Abedules']),\n",
      " 'Ramapa': set(['Ramapa de Sotileza']),\n",
      " 'name=Avenida': set(['name=Avenida del Cardenal Herrera Oria']),\n",
      " 'name=Calle': set(['name=Calle de Luis Salgado Lodeiro'])}\n"
     ]
    }
   ],
   "source": [
    "street_types = auditstreet(OSM_FILE)\n",
    "\n",
    "pprint.pprint(dict(street_types))\n",
    "\n",
    "#for st_type, ways in street_types.iteritems():\n",
    "#    for name in ways:\n",
    "#        better_name = update_name(name, mapping)\n",
    "#        print name, \"=>\", better_name\n"
   ]
  },
  {
   "cell_type": "markdown",
   "metadata": {},
   "source": [
    "### 2.3. Postcode"
   ]
  },
  {
   "cell_type": "markdown",
   "metadata": {
    "collapsed": false
   },
   "source": [
    "We just see one error in Postcodes, that the postcode is longer than 5 numbers. We just change this postcode for a s/n (unknown value)."
   ]
  },
  {
   "cell_type": "code",
   "execution_count": 11,
   "metadata": {
    "collapsed": true
   },
   "outputs": [],
   "source": [
    "from audit import auditpostcode"
   ]
  },
  {
   "cell_type": "code",
   "execution_count": 12,
   "metadata": {
    "collapsed": false
   },
   "outputs": [
    {
     "name": "stdout",
     "output_type": "stream",
     "text": [
      "{'3012': set(['3012']),\n",
      " '390012': set(['390012']),\n",
      " '<diferente>': set(['<diferente>']),\n",
      " 'Santander': set(['Santander'])}\n"
     ]
    }
   ],
   "source": [
    "postcode_types = auditpostcode(OSM_FILE)\n",
    "\n",
    "pprint.pprint(dict(postcode_types))\n",
    "\n",
    "#for st_type, ways in postcode_types.iteritems():\n",
    "#    for name in ways:\n",
    "#        better_name = update_postcode(name)\n",
    "#        print name, \"=>\", better_name"
   ]
  },
  {
   "cell_type": "markdown",
   "metadata": {},
   "source": [
    "### 2.4. House Number"
   ]
  },
  {
   "cell_type": "markdown",
   "metadata": {},
   "source": [
    "We can see different formats to show the house number. We will use number format, so format like 'Numero...' will be replaced. Other formats like '15-17', number + letter '21D' or two numbers '2, 4' are accepted."
   ]
  },
  {
   "cell_type": "code",
   "execution_count": 13,
   "metadata": {
    "collapsed": false
   },
   "outputs": [
    {
     "name": "stdout",
     "output_type": "stream",
     "text": [
      "29B set(['29B'])\n",
      "29A set(['29A'])\n",
      "79-A set(['79-A'])\n",
      "34D set(['34D'])\n",
      "34E set(['34E'])\n",
      "34F set(['34F'])\n",
      "34G set(['34G'])\n",
      "34A set(['34A'])\n",
      "34B set(['34B'])\n",
      "34C set(['34C'])\n"
     ]
    }
   ],
   "source": [
    "from audit import audithousenumber\n",
    "\n",
    "\n",
    "housenummer = audithousenumber(OSM_FILE)\n",
    "\n",
    "#pprint.pprint(dict(housenummer), indent=4)\n",
    "index = 0\n",
    "for x, y in dict(housenummer).iteritems():\n",
    "    print x,y\n",
    "    index = index + 1\n",
    "    if index == 10:\n",
    "        break\n",
    "\n",
    "\n",
    "#for st_type, ways in housenummer.iteritems():\n",
    "#    for name in ways:\n",
    "#        better_name = update_housenumber(name)\n",
    "#        print name, \"=>\", better_name\n"
   ]
  },
  {
   "cell_type": "markdown",
   "metadata": {},
   "source": [
    "## 3. Preparing for MongoDB"
   ]
  },
  {
   "cell_type": "code",
   "execution_count": 14,
   "metadata": {
    "collapsed": false
   },
   "outputs": [
    {
     "name": "stdout",
     "output_type": "stream",
     "text": [
      "{'created': {'changeset': '22006064',\n",
      "             'timestamp': '2014-04-28T16:51:42Z',\n",
      "             'uid': '2904',\n",
      "             'user': 'Emilio Gomez',\n",
      "             'version': '2'},\n",
      " 'id': '26347361',\n",
      " 'pos': [43.4466522, -3.8327673],\n",
      " 'type': 'node'}\n"
     ]
    }
   ],
   "source": [
    "from data import process_map\n",
    "\n",
    "data = process_map(OSM_FILE, True)\n",
    "pprint.pprint(data[0])\n"
   ]
  },
  {
   "cell_type": "code",
   "execution_count": 15,
   "metadata": {
    "collapsed": false
   },
   "outputs": [],
   "source": [
    "import json\n",
    "import pymongo\n",
    "\n",
    "from pymongo import MongoClient"
   ]
  },
  {
   "cell_type": "code",
   "execution_count": 17,
   "metadata": {
    "collapsed": false
   },
   "outputs": [
    {
     "name": "stderr",
     "output_type": "stream",
     "text": [
      "C:\\Users\\David\\Anaconda2\\lib\\site-packages\\ipykernel\\__main__.py:4: DeprecationWarning: insert is deprecated. Use insert_one or insert_many instead.\n"
     ]
    }
   ],
   "source": [
    "def insert_data(data, db):\n",
    "    for row in data:\n",
    "        #print row\n",
    "        db.maps.insert(row)\n",
    "        \n",
    "client = MongoClient(\"mongodb://localhost:27017\")\n",
    "db = client.maps\n",
    "\n",
    "with open('mapSantander.osm.json') as f:\n",
    "    data = json.loads(f.read())\n",
    "    insert_data(data, db)"
   ]
  },
  {
   "cell_type": "markdown",
   "metadata": {},
   "source": [
    "## 4. Explore Database with MongoDB"
   ]
  },
  {
   "cell_type": "code",
   "execution_count": 18,
   "metadata": {
    "collapsed": false,
    "scrolled": true
   },
   "outputs": [
    {
     "name": "stdout",
     "output_type": "stream",
     "text": [
      "mapSantander.osm.json is 94.359568 MB in size.\n",
      "Number of Documents: 589078\n",
      "Numebr of uniques Users: 293\n",
      "Number of Nodes: 524206\n",
      "Number of Ways: 64818\n",
      "Number of Cafes: 170\n",
      "Number of Restaurantes: 420\n",
      "Top 10 amenities: \n",
      "[{u'_id': u'recycling', u'count': 722},\n",
      " {u'_id': u'restaurant', u'count': 420},\n",
      " {u'_id': u'bench', u'count': 260},\n",
      " {u'_id': u'bar', u'count': 244},\n",
      " {u'_id': u'drinking_water', u'count': 230},\n",
      " {u'_id': u'waste_disposal', u'count': 210},\n",
      " {u'_id': u'cafe', u'count': 170},\n",
      " {u'_id': u'waste_basket', u'count': 128},\n",
      " {u'_id': u'bank', u'count': 128},\n",
      " {u'_id': u'place_of_worship', u'count': 122}]\n",
      "Top 1 contributing user\n",
      "[{u'_id': u'Emilio Gomez', u'count': 266606}]\n"
     ]
    }
   ],
   "source": [
    "# Size of the file\n",
    "import os\n",
    "def get_size(file_name):\n",
    "    wd = %pwd\n",
    "    return os.stat(wd + '/' + file_name).st_size/1000.0/1000.0\n",
    "\n",
    "file_size = get_size('mapSantander.osm.json')\n",
    "print \"{} is {} MB in size.\".format(\"mapSantander.osm.json\", file_size)\n",
    "\n",
    "# Number of documnents\n",
    "print \"Number of Documents: \" + str(db.maps.find().count())\n",
    "\n",
    "# Number of unique users\n",
    "print \"Numebr of uniques Users: \" + str(len(db.maps.distinct(\"created.user\")))\n",
    "\n",
    "# Number of nodes and ways\n",
    "print \"Number of Nodes: \" + str(db.maps.find({'type': \"node\"}).count())\n",
    "print \"Number of Ways: \" + str(db.maps.find({'type': \"way\"}).count())\n",
    "\n",
    "# Number of chosen type of nodes, like cafes, shops etc.\n",
    "print \"Number of Cafes: \" + str(db.maps.find({'amenity':u\"cafe\",'type':\"node\"}).count())\n",
    "\n",
    "print \"Number of Restaurantes: \" + str(db.maps.find({'amenity':\"restaurant\", 'type':\"node\"}).count())\n",
    "\n",
    "print \"Top 10 amenities: \"\n",
    "pprint.pprint([doc for doc in db.maps.aggregate([{'$match':{\"amenity\":{\"$exists\":1},\"type\":\"node\"}},\n",
    "                        {\"$group\":{\"_id\":\"$amenity\",\"count\":{\"$sum\":1}}},\n",
    "                        {'$sort':{\"count\":-1}},\n",
    "                        {\"$limit\":10}])])\n",
    "\n",
    "print \"Top 1 contributing user\" \n",
    "pprint.pprint([doc for doc in db.maps.aggregate([\n",
    "    {\"$match\":{\"type\":\"node\"}},\n",
    "    {\"$group\":{\"_id\":\"$created.user\",\"count\":{\"$sum\":1}}},\n",
    "    {\"$sort\":{\"count\":-1}},\n",
    "    {\"$limit\":1}\n",
    "])])\n",
    "\n"
   ]
  },
  {
   "cell_type": "markdown",
   "metadata": {},
   "source": [
    "# 5. Additional Ideas"
   ]
  },
  {
   "cell_type": "markdown",
   "metadata": {},
   "source": [
    "After see the data from Santander, it is clear that it is not complete, however I find it so useful.\n",
    "\n",
    "First of all, I see a lack of information in many inputs, it might be necessary an upgrade of OpenStreetMap. It should be mandatory when you introduce a business, a house or anything to introduce a minimum of information.\n",
    "\n",
    "We will avoid useless information in our database.\n",
    "\n",
    "Here we can easily see a problem, we have to introduce again all the information. We might get all this information from a big databse as google maps.\n",
    "\n",
    "Another problem is the written accent. Depending on the language of the country, you might have written accent in your languages and this accent is translated into ASCII code. It would be helpful a program which fix this problem.\n",
    "\n",
    "Fixing this problems we can avoid misunderstandings between similar names and have a reliable database.\n",
    "\n",
    "If you want to write properly all the names, you should verify this names with another database or as I said before, trust in google maps database."
   ]
  }
 ],
 "metadata": {
  "anaconda-cloud": {},
  "kernelspec": {
   "display_name": "Python [default]",
   "language": "python",
   "name": "python2"
  },
  "language_info": {
   "codemirror_mode": {
    "name": "ipython",
    "version": 2
   },
   "file_extension": ".py",
   "mimetype": "text/x-python",
   "name": "python",
   "nbconvert_exporter": "python",
   "pygments_lexer": "ipython2",
   "version": "2.7.12"
  }
 },
 "nbformat": 4,
 "nbformat_minor": 1
}
