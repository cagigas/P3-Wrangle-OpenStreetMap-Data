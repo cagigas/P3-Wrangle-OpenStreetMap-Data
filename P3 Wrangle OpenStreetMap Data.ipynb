{
 "cells": [
  {
   "cell_type": "markdown",
   "metadata": {},
   "source": [
    "# P3: Wrangle OpenStreetMap Data"
   ]
  },
  {
   "cell_type": "markdown",
   "metadata": {},
   "source": [
    "## 1. Choose Your Map Area"
   ]
  },
  {
   "cell_type": "markdown",
   "metadata": {},
   "source": [
    "I have chosen a Spanish town (Santander, Spain) as area. All data downloaded from https://www.openstreetmap.org as a XML OSM dataset. Using tool Overpass API to download a square are of Santander, the file size is 62.4MB. The are downloaded is located, N: 43.4978, S: 43.3893, E: -3.7096, W: -3.9791. \n",
    "\n",
    "In this project we will use data munging techniques to clean OpenStreetMap data for a part of the world that we care about. We will use MongoDB in order to help us. We start thoroughly audit and clean our dataset, converting it from XML OSM to JSON format. Then we will import the cleaned .json file into a MongoDB database and try some commands.\n"
   ]
  },
  {
   "cell_type": "markdown",
   "metadata": {},
   "source": [
    "## 2. Process and Audit Data\n"
   ]
  },
  {
   "cell_type": "markdown",
   "metadata": {},
   "source": [
    "I will use the following code to take a systematic sample of elements from your original OSM region. This code will create a file called sample.osm which we will use for testing future functions."
   ]
  },
  {
   "cell_type": "code",
   "execution_count": 58,
   "metadata": {
    "collapsed": false
   },
   "outputs": [],
   "source": [
    "#!/usr/bin/env python\n",
    "# -*- coding: utf-8 -*-\n",
    "\n",
    "import xml.etree.ElementTree as ET  # Use cElementTree or lxml if too slow\n",
    "\n",
    "OSM_FILE = \"mapSantander.osm\"  # Replace this with your osm file\n",
    "SAMPLE_FILE = \"sample.osm\"\n",
    "\n",
    "k = 200 # Parameter: take every k-th top level element\n",
    "\n",
    "def get_element(osm_file, tags=('node', 'way', 'relation')):\n",
    "    \"\"\"Yield element if it is the right type of tag\n",
    "\n",
    "    Reference:\n",
    "    http://stackoverflow.com/questions/3095434/inserting-newlines-in-xml-file-generated-via-xml-etree-elementtree-in-python\n",
    "    \"\"\"\n",
    "    context = iter(ET.iterparse(osm_file, events=('start', 'end')))\n",
    "    _, root = next(context)\n",
    "    for event, elem in context:\n",
    "        if event == 'end' and elem.tag in tags:\n",
    "            yield elem\n",
    "            root.clear()\n",
    "\n",
    "\n",
    "with open(SAMPLE_FILE, 'wb') as output:\n",
    "    output.write('<?xml version=\"1.0\" encoding=\"UTF-8\"?>\\n')\n",
    "    output.write('<osm>\\n  ')\n",
    "\n",
    "    # Write every kth top level element\n",
    "    for i, element in enumerate(get_element(OSM_FILE)):\n",
    "        if i % k == 0:\n",
    "            output.write(ET.tostring(element, encoding='utf-8'))\n",
    "\n",
    "    output.write('</osm>')"
   ]
  },
  {
   "cell_type": "markdown",
   "metadata": {},
   "source": [
    "### 2.1. Tags"
   ]
  },
  {
   "cell_type": "markdown",
   "metadata": {},
   "source": [
    "First of all, I will count the number of unique element types and import needed libraries."
   ]
  },
  {
   "cell_type": "code",
   "execution_count": 59,
   "metadata": {
    "collapsed": false
   },
   "outputs": [
    {
     "name": "stdout",
     "output_type": "stream",
     "text": [
      "{'bounds': 1,\n",
      " 'member': 27161,\n",
      " 'meta': 1,\n",
      " 'nd': 320009,\n",
      " 'node': 262105,\n",
      " 'note': 1,\n",
      " 'osm': 1,\n",
      " 'relation': 579,\n",
      " 'tag': 244418,\n",
      " 'way': 32434}\n"
     ]
    }
   ],
   "source": [
    "import pprint\n",
    "import re\n",
    "\n",
    "def count_tags(filename):\n",
    "    tags = {}\n",
    "    for _, element in ET.iterparse(filename):\n",
    "\n",
    "        if element.tag in tags:\n",
    "            tags[element.tag] += 1\n",
    "        else:    \n",
    "            tags[element.tag] = 1\n",
    "        \n",
    "    return tags\n",
    "\n",
    "\n",
    "tags = count_tags(OSM_FILE)\n",
    "pprint.pprint(tags)\n"
   ]
  },
  {
   "cell_type": "markdown",
   "metadata": {},
   "source": [
    "We get a overall understanding with this tags. Now we will find problems with tag key names and try to solve them."
   ]
  },
  {
   "cell_type": "code",
   "execution_count": 60,
   "metadata": {
    "collapsed": false
   },
   "outputs": [
    {
     "name": "stdout",
     "output_type": "stream",
     "text": [
      "{'lower': 145664, 'lower_colon': 97828, 'other': 926, 'problemchars': 0}\n"
     ]
    }
   ],
   "source": [
    "lower = re.compile(r'^([a-z]|_)*$')\n",
    "lower_colon = re.compile(r'^([a-z]|_)*:([a-z]|_)*$')\n",
    "problemchars = re.compile(r'[=\\+/&<>;\\'\"\\?%#$@\\,\\. \\t\\r\\n]')\n",
    "\n",
    "\n",
    "def key_type(element, keys):\n",
    "    if element.tag == \"tag\":\n",
    "        for tag in element.iter('tag'):\n",
    "            k = tag.get('k')\n",
    "            if lower.search(k):\n",
    "                keys['lower'] += 1\n",
    "            elif lower_colon.search(k):\n",
    "                keys['lower_colon'] += 1\n",
    "            elif problemchars.search(k):\n",
    "                keys['problemchars'] += 1\n",
    "            else:\n",
    "                keys['other'] += 1\n",
    "    return keys\n",
    "\n",
    "\n",
    "def process_map(filename):\n",
    "    keys = {\"lower\": 0, \"lower_colon\": 0, \"problemchars\": 0, \"other\": 0}\n",
    "    for _, element in ET.iterparse(filename):\n",
    "        keys = key_type(element, keys)\n",
    "\n",
    "    return keys\n",
    "\n",
    "\n",
    "tags = process_map(OSM_FILE)\n",
    "pprint.pprint(tags)\n",
    "\n"
   ]
  },
  {
   "cell_type": "markdown",
   "metadata": {},
   "source": [
    "The only tag we might have problems is the 'problemchars' but we don not have any. In case we had, we would ignore them."
   ]
  },
  {
   "cell_type": "markdown",
   "metadata": {},
   "source": [
    "### 2.2. Street Names"
   ]
  },
  {
   "cell_type": "markdown",
   "metadata": {},
   "source": [
    "We found problems in some abbreviation in the dataset. In spanish is very common to say c/ instead of calle (street). We start updating this mistakes for the right ones. We have found other curiosities, such as tildes and capital letters in some data, which we have leave it.\n",
    "\n",
    "We are processing only two types of top level tags, \"node\" and \"way\""
   ]
  },
  {
   "cell_type": "code",
   "execution_count": 61,
   "metadata": {
    "collapsed": false
   },
   "outputs": [],
   "source": [
    "from collections import defaultdict\n",
    "\n",
    "street_type_re = re.compile(r'^\\b\\S+\\.?', re.IGNORECASE)\n",
    "\n",
    "expected = [\"Calle\", \"CALLE\", u\"Barrio\", u\"Centro\", \"Calleja\", \"Centro Comercial\", \"Avenida\", \"Plaza\", \"Camino\", \"Estacion\", \"Parking\", \"Campus\", \"Carretera\", \n",
    "            \"Glorieta\", \"Paseo\", \"Rotonda\", \"Juan\", \"Gran\", \"Dante\", \"Maria\", \"Pasaje\", u'Le\\xf3n', u'Comisar\\xeda', \n",
    "            \"Edificio\", \"Vivero\", \"CARRETERA\", \"Centro\", \"Lope\", u'pol\\xedgono', u'Pol\\xedgono', \"Bajada\", \"Subida\", \"Grupo\", \"Rampa\", \n",
    "            \"Barrio\", \"AREA\", \"La\", \"Acceso\", \"POLIGONO\", \"Mercado\", \"Cuesta\", u\"Urbanizaci\\xf3n\", \"Ernest\", \"Pol\", \"Puerto\", \"Jardines\",\n",
    "            \"San\",u\"Autov\\xeda\", u\"V\\xeda\", \"MercaSantander\", u\"Traves\\xeda\", u\"ISLA\", u\"Playa\", \"N-611\", \"BARRIO\", \"Las\"]\n",
    "\n",
    "# UPDATE THIS VARIABLE\n",
    "mapping = { \"C/\": \"Calle\",\n",
    "            \"Barrio\": \"Barrio\",\n",
    "            \"Calle\": \"Calle\",\n",
    "            \"Calles\": \"Calle\",\n",
    "            \"Avenidad\" : \"Avenida\",\n",
    "            \"Avda.\": \"Avenida\",\n",
    "            u\"Calla\": \"Calle\",\n",
    "            \"name=Avenida\": \"Avenida\",\n",
    "            \"name=Calle\": \"Calle\",\n",
    "            \"AREA,\": \"Area\",\n",
    "            \"Bajade\": \"Bajada\",\n",
    "            \"Ramapa\": \"Rampa\"\n",
    "          }\n"
   ]
  },
  {
   "cell_type": "markdown",
   "metadata": {},
   "source": [
    "As you can see we will get the first word from the street as in Spanish we used to say Street or Avenue at the begining. However it is very common to say other words.\n",
    "\n",
    "We will create three functions to help us to clean the data.\n",
    "\n",
    "* audit_street_type, will help us to find the input wich does not match within expected and will add this string to the set.\n",
    "* is_street_name, will say if that element is a street.\n",
    "* auditstreet, will return a list which elements either street that do not match in expected.\n",
    "* update_name, will change the string name"
   ]
  },
  {
   "cell_type": "code",
   "execution_count": 62,
   "metadata": {
    "collapsed": false
   },
   "outputs": [
    {
     "name": "stdout",
     "output_type": "stream",
     "text": [
      "{'AREA,': set(['AREA, ARRABAL PUERTO DE RAOS']),\n",
      " 'Avda.': set(['Avda. de la Reina Victoria']),\n",
      " u'Avenidad': set([u'Avenidad de P\\xe9rez Gald\\xf3s']),\n",
      " 'Bajade': set(['Bajade del Caleruco']),\n",
      " u'Calla': set([u'Calla de San Mart\\xedn', 'Calla del Convento']),\n",
      " 'Calles': set(['Calles de los Abedules']),\n",
      " 'Ramapa': set(['Ramapa de Sotileza']),\n",
      " 'name=Avenida': set(['name=Avenida del Cardenal Herrera Oria']),\n",
      " 'name=Calle': set(['name=Calle de Luis Salgado Lodeiro'])}\n"
     ]
    }
   ],
   "source": [
    "def audit_street_type(street_types, street_name):\n",
    "    m = street_type_re.search(street_name)\n",
    "    if m:\n",
    "        street_type = m.group()\n",
    "        if street_type not in expected:\n",
    "            street_types[street_type].add(street_name)\n",
    "            \n",
    "def is_street_name(elem):\n",
    "    return (elem.attrib['k'] == \"addr:street\")\n",
    "\n",
    "def auditstreet(osmfile):\n",
    "    osm_file = open(osmfile, \"r\")\n",
    "    street_types = defaultdict(set)\n",
    "    for event, elem in ET.iterparse(osm_file, events=(\"start\",)):\n",
    "\n",
    "        if elem.tag == \"node\" or elem.tag == \"way\":\n",
    "            for tag in elem.iter(\"tag\"):\n",
    "                if is_street_name(tag): # Checking house name and street name\n",
    "                    audit_street_type(street_types, tag.attrib['v'])\n",
    "    osm_file.close()\n",
    "    return street_types\n",
    "\n",
    "\n",
    "def update_name(name, mapping):\n",
    "\n",
    "    m = street_type_re.search(name)\n",
    "    better_name = name\n",
    "    if m:\n",
    "        #print mapping[m.group()]\n",
    "        better_street_type = mapping[m.group()]        \n",
    "        better_name = street_type_re.sub(better_street_type, name)\n",
    "\n",
    "    return better_name\n",
    "\n",
    "\n",
    "street_types = auditstreet(OSM_FILE)\n",
    "\n",
    "pprint.pprint(dict(street_types))\n",
    "#for st_type, ways in street_types.iteritems():\n",
    "#    for name in ways:\n",
    "#        better_name = update_name(name, mapping)\n",
    "#        print name, \"=>\", better_name\n",
    "\n",
    "\n"
   ]
  },
  {
   "cell_type": "markdown",
   "metadata": {},
   "source": [
    "### 2.3. Postcode"
   ]
  },
  {
   "cell_type": "markdown",
   "metadata": {
    "collapsed": false
   },
   "source": [
    "We just see one error in Postcodes, that the postcode is longer than 5 numbers. We just change this postcode for a s/n (unknown value)."
   ]
  },
  {
   "cell_type": "code",
   "execution_count": 63,
   "metadata": {
    "collapsed": false
   },
   "outputs": [
    {
     "name": "stdout",
     "output_type": "stream",
     "text": [
      "{'3012': set(['3012']),\n",
      " '390012': set(['390012']),\n",
      " '<diferente>': set(['<diferente>']),\n",
      " 'Santander': set(['Santander'])}\n"
     ]
    }
   ],
   "source": [
    "def audit_postcode(postcode_types, postcode):\n",
    "    postcode_types[postcode].add(postcode)\n",
    "\n",
    "\n",
    "def is_postcode(elem):\n",
    "    return (elem.attrib['k'] == \"addr:postcode\" and len(elem.attrib['v']) != 5)\n",
    "\n",
    "def auditpostcode(osmfile):\n",
    "    osm_file = open(osmfile, \"r\")\n",
    "    postcode_types = defaultdict(set)\n",
    "    for event, elem in ET.iterparse(osm_file, events=(\"start\",)):\n",
    "        if elem.tag == \"node\" or elem.tag == \"way\":\n",
    "            for tag in elem.iter(\"tag\"):\n",
    "                if is_postcode(tag): # Here we check postcode > 5 number\n",
    "                    audit_postcode(postcode_types, tag.attrib['v'])\n",
    "    osm_file.close()\n",
    "    return postcode_types\n",
    "\n",
    "\n",
    "def update_postcode(postcode):\n",
    "    return ('s/n')\n",
    "\n",
    "postcode_types = auditpostcode(OSM_FILE)\n",
    "\n",
    "pprint.pprint(dict(postcode_types))\n",
    "\n",
    "#for st_type, ways in postcode_types.iteritems():\n",
    "#    for name in ways:\n",
    "#        better_name = update_postcode(name)\n",
    "#        print name, \"=>\", better_name\n"
   ]
  },
  {
   "cell_type": "markdown",
   "metadata": {},
   "source": [
    "### 2.4. House Number"
   ]
  },
  {
   "cell_type": "markdown",
   "metadata": {},
   "source": [
    "We can see different formats to show the house number. We will use number format, so format like 'Numero...' will be replaced. Other formats like '15-17', number + letter '21D' or two numbers '2, 4' are accepted."
   ]
  },
  {
   "cell_type": "code",
   "execution_count": 87,
   "metadata": {
    "collapsed": false
   },
   "outputs": [],
   "source": [
    "def is_housenummer(elem):\n",
    "    return (elem.attrib['k'] == \"addr:housenumber\")\n",
    "\n",
    "\n",
    "def audit_housenummer(no_housenummer, house_nummer):\n",
    "    if not house_nummer.isdigit():\n",
    "        no_housenummer[house_nummer].add(house_nummer)\n",
    "    \n",
    "\n",
    "def audithousenumber(osmfile):\n",
    "    osm_file = open(osmfile, \"r\")\n",
    "    no_housenummer = defaultdict(set)\n",
    "    for event, elem in ET.iterparse(osm_file, events=(\"start\",)):\n",
    "        if elem.tag == \"node\" or elem.tag == \"way\":\n",
    "            for tag in elem.iter(\"tag\"):\n",
    "                if is_housenummer(tag): # Checking house nummer\n",
    "                    audit_housenummer(no_housenummer, tag.attrib['v'])\n",
    "    osm_file.close()\n",
    "    return no_housenummer\n",
    "\n",
    "\n",
    "def update_housenumber(housenumber):\n",
    "    num = re.findall('[a-zA-Z]*', housenumber)\n",
    "    if num:\n",
    "        num = num[0]\n",
    "\n",
    "    if num == \"Numero\":\n",
    "        housen = (re.findall(r'\\d+', housenumber))\n",
    "#        print re.findall(r'\\d+', housenumber)\n",
    "        if housen:\n",
    "            return (re.findall(r'\\d+', housenumber))\n",
    "\n",
    "\n",
    "housenummer = audithousenumber(OSM_FILE)\n",
    "\n",
    "#pprint.pprint(dict(housenummer))\n",
    "\n",
    "#for st_type, ways in housenummer.iteritems():\n",
    "#    for name in ways:\n",
    "#        better_name = update_housenumber(name)\n",
    "#        print name, \"=>\", better_name\n",
    "\n",
    "\n",
    "\n",
    "\n",
    "\n"
   ]
  },
  {
   "cell_type": "markdown",
   "metadata": {},
   "source": [
    "## 3. Preparing for MongoDB"
   ]
  },
  {
   "cell_type": "code",
   "execution_count": null,
   "metadata": {
    "collapsed": false
   },
   "outputs": [],
   "source": [
    "import codecs\n",
    "import json\n",
    "\n",
    "lower = re.compile(r'^([a-z]|_)*$')\n",
    "lower_colon = re.compile(r'^([a-z]|_)*:([a-z]|_)*$')\n",
    "problemchars = re.compile(r'[=\\+/&<>;\\'\"\\?%#$@\\,\\. \\t\\r\\n]')\n",
    "\n",
    "CREATED = [ \"version\", \"changeset\", \"timestamp\", \"user\", \"uid\"]"
   ]
  },
  {
   "cell_type": "code",
   "execution_count": null,
   "metadata": {
    "collapsed": false
   },
   "outputs": [],
   "source": [
    "#!/usr/bin/env python\n",
    "# -*- coding: utf-8 -*-\n",
    "import xml.etree.cElementTree as ET\n",
    "import pprint\n",
    "import re\n",
    "import codecs\n",
    "import json\n",
    "\"\"\"\n",
    "Your task is to wrangle the data and transform the shape of the data\n",
    "into the model we mentioned earlier. The output should be a list of dictionaries\n",
    "that look like this:\n",
    "\n",
    "{\n",
    "\"id\": \"2406124091\",\n",
    "\"type: \"node\",\n",
    "\"visible\":\"true\",\n",
    "\"created\": {\n",
    "          \"version\":\"2\",\n",
    "          \"changeset\":\"17206049\",\n",
    "          \"timestamp\":\"2013-08-03T16:43:42Z\",\n",
    "          \"user\":\"linuxUser16\",\n",
    "          \"uid\":\"1219059\"\n",
    "        },\n",
    "\"pos\": [41.9757030, -87.6921867],\n",
    "\"address\": {\n",
    "          \"housenumber\": \"5157\",\n",
    "          \"postcode\": \"60625\",\n",
    "          \"street\": \"North Lincoln Ave\"\n",
    "        },\n",
    "\"amenity\": \"restaurant\",\n",
    "\"cuisine\": \"mexican\",\n",
    "\"name\": \"La Cabana De Don Luis\",\n",
    "\"phone\": \"1 (773)-271-5176\"\n",
    "}\n",
    "\n",
    "You have to complete the function 'shape_element'.\n",
    "We have provided a function that will parse the map file, and call the function with the element\n",
    "as an argument. You should return a dictionary, containing the shaped data for that element.\n",
    "We have also provided a way to save the data in a file, so that you could use\n",
    "mongoimport later on to import the shaped data into MongoDB. \n",
    "\n",
    "Note that in this exercise we do not use the 'update street name' procedures\n",
    "you worked on in the previous exercise. If you are using this code in your final\n",
    "project, you are strongly encouraged to use the code from previous exercise to \n",
    "update the street names before you save them to JSON. \n",
    "\n",
    "In particular the following things should be done:\n",
    "- you should process only 2 types of top level tags: \"node\" and \"way\"\n",
    "- all attributes of \"node\" and \"way\" should be turned into regular key/value pairs, except:\n",
    "    - attributes in the CREATED array should be added under a key \"created\"\n",
    "    - attributes for latitude and longitude should be added to a \"pos\" array,\n",
    "      for use in geospacial indexing. Make sure the values inside \"pos\" array are floats\n",
    "      and not strings. \n",
    "- if the second level tag \"k\" value contains problematic characters, it should be ignored\n",
    "- if the second level tag \"k\" value starts with \"addr:\", it should be added to a dictionary \"address\"\n",
    "- if the second level tag \"k\" value does not start with \"addr:\", but contains \":\", you can\n",
    "  process it in a way that you feel is best. For example, you might split it into a two-level\n",
    "  dictionary like with \"addr:\", or otherwise convert the \":\" to create a valid key.\n",
    "- if there is a second \":\" that separates the type/direction of a street,\n",
    "  the tag should be ignored, for example:\n",
    "\n",
    "<tag k=\"addr:housenumber\" v=\"5158\"/>\n",
    "<tag k=\"addr:street\" v=\"North Lincoln Avenue\"/>\n",
    "<tag k=\"addr:street:name\" v=\"Lincoln\"/>\n",
    "<tag k=\"addr:street:prefix\" v=\"North\"/>\n",
    "<tag k=\"addr:street:type\" v=\"Avenue\"/>\n",
    "<tag k=\"amenity\" v=\"pharmacy\"/>\n",
    "\n",
    "  should be turned into:\n",
    "\n",
    "{...\n",
    "\"address\": {\n",
    "    \"housenumber\": 5158,\n",
    "    \"street\": \"North Lincoln Avenue\"\n",
    "}\n",
    "\"amenity\": \"pharmacy\",\n",
    "...\n",
    "}\n",
    "\n",
    "- for \"way\" specifically:\n",
    "\n",
    "  <nd ref=\"305896090\"/>\n",
    "  <nd ref=\"1719825889\"/>\n",
    "\n",
    "should be turned into\n",
    "\"node_refs\": [\"305896090\", \"1719825889\"]\n",
    "\"\"\"\n",
    "\n",
    "\n",
    "lower = re.compile(r'^([a-z]|_)*$')\n",
    "lower_colon = re.compile(r'^([a-z]|_)*:([a-z]|_)*$')\n",
    "problemchars = re.compile(r'[=\\+/&<>;\\'\"\\?%#$@\\,\\. \\t\\r\\n]')\n",
    "\n",
    "CREATED = [ \"version\", \"changeset\", \"timestamp\", \"user\", \"uid\"]\n",
    "\n",
    "\n",
    "def shape_element(element):\n",
    "    node = {}\n",
    "    # you should process only 2 types of top level tags: \"node\" and \"way\"\n",
    "    if element.tag == \"node\" or element.tag == \"way\" :\n",
    "        for key in element.attrib.keys():\n",
    "            val = element.attrib[key]\n",
    "            node[\"type\"] = element.tag\n",
    "            if key in CREATED:\n",
    "                if not \"created\" in node.keys():\n",
    "                    node[\"created\"] = {}\n",
    "                node[\"created\"][key] = val\n",
    "            elif key == \"lat\" or key == \"lon\":\n",
    "                if not \"pos\" in node.keys():\n",
    "                    node[\"pos\"] = [0.0, 0.0]\n",
    "                old_pos = node[\"pos\"]\n",
    "                if key == \"lat\":\n",
    "                    new_pos = [float(val), old_pos[1]]\n",
    "                else:\n",
    "                    new_pos = [old_pos[0], float(val)]\n",
    "                node[\"pos\"] = new_pos\n",
    "            else:\n",
    "                node[key] = val\n",
    "            for tag in element.iter(\"tag\"):\n",
    "                tag_key = tag.attrib['k']\n",
    "                tag_val = tag.attrib['v']\n",
    "                if problemchars.match(tag_key):\n",
    "                    continue\n",
    "                elif tag_key.startswith(\"addr:\"):\n",
    "                    if not \"address\" in node.keys():\n",
    "                        node[\"address\"] = {}\n",
    "                    addr_key = tag.attrib['k'][len(\"addr:\") : ]\n",
    "                    if lower_colon.match(addr_key):\n",
    "                        continue\n",
    "                    else:\n",
    "                        if tag_val.split(' ')[0] in expected:\n",
    "                            node[\"address\"][addr_key] = tag_val\n",
    "                        elif tag_key.endswith(\"street\"):\n",
    "                            node[\"address\"][addr_key] = update_name(tag_val, mapping)\n",
    "                        elif tag_key.endswith(\"postcode\"):\n",
    "                            node[\"address\"][addr_key] = update_postcode(tag_val)\n",
    "                        elif tag_key.endswith(\"housenumber\"):\n",
    "                            node[\"address\"][addr_key] = update_housenumber(tag_val)\n",
    "                        else:\n",
    "                            node[\"address\"][addr_key] = tag_val\n",
    "                            \n",
    "                elif lower_colon.match(tag_key):\n",
    "                    node[tag_key] = tag_val\n",
    "                else:\n",
    "                    node[tag_key] = tag_val\n",
    "        for tag in element.iter(\"nd\"):\n",
    "            if not \"node_refs\" in node.keys():\n",
    "                node[\"node_refs\"] = []\n",
    "            node_refs = node[\"node_refs\"]\n",
    "            node_refs.append(tag.attrib[\"ref\"])\n",
    "            node[\"node_refs\"] = node_refs\n",
    "\n",
    "        return node\n",
    "    else:\n",
    "        return None\n",
    "\n",
    "\n",
    "def process_map(file_in, pretty = False):\n",
    "    # You do not need to change this file\n",
    "    file_out = \"{0}.json\".format(file_in)\n",
    "    data = []\n",
    "    with codecs.open(file_out, \"w\") as fo:\n",
    "        fo.write(\"[\")\n",
    "        for _, element in ET.iterparse(file_in):\n",
    "            el = shape_element(element)\n",
    "            if el:\n",
    "                data.append(el)\n",
    "                if pretty:\n",
    "                    fo.write(json.dumps(el, indent=2)+\",\\n\")\n",
    "                else:\n",
    "                    fo.write(json.dumps(el) + \",\\n\")\n",
    "        fo.write(\"]\")\n",
    "\n",
    "    return data\n",
    "\n",
    "data = process_map(OSM_FILE, True)\n",
    "pprint.pprint(data[0])\n"
   ]
  },
  {
   "cell_type": "code",
   "execution_count": null,
   "metadata": {
    "collapsed": true
   },
   "outputs": [],
   "source": [
    "import json\n",
    "import pymongo\n",
    "\n",
    "from pymongo import MongoClient"
   ]
  },
  {
   "cell_type": "code",
   "execution_count": null,
   "metadata": {
    "collapsed": false
   },
   "outputs": [],
   "source": [
    "def insert_data(data, db):\n",
    "    for row in data:\n",
    "        print row\n",
    "        db.maps.insert(row)\n",
    "        \n",
    "client = MongoClient(\"mongodb://localhost:27017\")\n",
    "db = client.maps\n",
    "\n",
    "with open('mapSantander.osm.json') as f:\n",
    "    data = json.loads(f.read())\n",
    "    insert_data(data, db)"
   ]
  },
  {
   "cell_type": "markdown",
   "metadata": {},
   "source": [
    "## 4. Explore Database with MongoDB"
   ]
  },
  {
   "cell_type": "code",
   "execution_count": 57,
   "metadata": {
    "collapsed": false,
    "scrolled": true
   },
   "outputs": [
    {
     "name": "stdout",
     "output_type": "stream",
     "text": [
      "mapSantander.osm.json is 94.341991 MB in size.\n",
      "Number of Documents: 593497\n",
      "Numebr of uniques Users: 293\n",
      "Number of Nodes: 528139\n",
      "Number of Ways: 65304\n",
      "Number of Cafes: 170\n",
      "Number of Restaurantes: 420\n",
      "Top 10 amenities: \n",
      "[{u'_id': u'recycling', u'count': 737},\n",
      " {u'_id': u'restaurant', u'count': 420},\n",
      " {u'_id': u'bench', u'count': 263},\n",
      " {u'_id': u'bar', u'count': 247},\n",
      " {u'_id': u'drinking_water', u'count': 230},\n",
      " {u'_id': u'waste_disposal', u'count': 210},\n",
      " {u'_id': u'cafe', u'count': 170},\n",
      " {u'_id': u'waste_basket', u'count': 131},\n",
      " {u'_id': u'bank', u'count': 128},\n",
      " {u'_id': u'place_of_worship', u'count': 125}]\n",
      "Top 1 contributing user\n",
      "[{u'_id': u'Emilio Gomez', u'count': 268610}]\n"
     ]
    }
   ],
   "source": [
    "# Size of the file\n",
    "import os\n",
    "def get_size(file_name):\n",
    "    wd = %pwd\n",
    "    return os.stat(wd + '/' + file_name).st_size/1000.0/1000.0\n",
    "\n",
    "file_size = get_size('mapSantander.osm.json')\n",
    "print \"{} is {} MB in size.\".format(\"mapSantander.osm.json\", file_size)\n",
    "\n",
    "# Number of documnents\n",
    "print \"Number of Documents: \" + str(db.maps.find().count())\n",
    "\n",
    "# Number of unique users\n",
    "print \"Numebr of uniques Users: \" + str(len(db.maps.distinct(\"created.user\")))\n",
    "\n",
    "# Number of nodes and ways\n",
    "print \"Number of Nodes: \" + str(db.maps.find({'type': \"node\"}).count())\n",
    "print \"Number of Ways: \" + str(db.maps.find({'type': \"way\"}).count())\n",
    "\n",
    "# Number of chosen type of nodes, like cafes, shops etc.\n",
    "print \"Number of Cafes: \" + str(db.maps.find({'amenity':u\"cafe\",'type':\"node\"}).count())\n",
    "\n",
    "print \"Number of Restaurantes: \" + str(db.maps.find({'amenity':\"restaurant\", 'type':\"node\"}).count())\n",
    "\n",
    "print \"Top 10 amenities: \"\n",
    "pprint.pprint([doc for doc in db.maps.aggregate([{'$match':{\"amenity\":{\"$exists\":1},\"type\":\"node\"}},\n",
    "                        {\"$group\":{\"_id\":\"$amenity\",\"count\":{\"$sum\":1}}},\n",
    "                        {'$sort':{\"count\":-1}},\n",
    "                        {\"$limit\":10}])])\n",
    "\n",
    "print \"Top 1 contributing user\" \n",
    "pprint.pprint([doc for doc in db.maps.aggregate([\n",
    "    {\"$match\":{\"type\":\"node\"}},\n",
    "    {\"$group\":{\"_id\":\"$created.user\",\"count\":{\"$sum\":1}}},\n",
    "    {\"$sort\":{\"count\":-1}},\n",
    "    {\"$limit\":1}\n",
    "])])\n",
    "\n"
   ]
  }
 ],
 "metadata": {
  "anaconda-cloud": {},
  "kernelspec": {
   "display_name": "Python [default]",
   "language": "python",
   "name": "python2"
  },
  "language_info": {
   "codemirror_mode": {
    "name": "ipython",
    "version": 2
   },
   "file_extension": ".py",
   "mimetype": "text/x-python",
   "name": "python",
   "nbconvert_exporter": "python",
   "pygments_lexer": "ipython2",
   "version": "2.7.12"
  }
 },
 "nbformat": 4,
 "nbformat_minor": 1
}
